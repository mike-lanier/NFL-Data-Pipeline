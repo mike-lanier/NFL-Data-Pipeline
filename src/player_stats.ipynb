{
 "cells": [
  {
   "cell_type": "code",
   "execution_count": 11,
   "metadata": {},
   "outputs": [],
   "source": [
    "import json\n",
    "import requests\n",
    "from datetime import datetime\n",
    "import pytz\n",
    "from postgres_driver import PostgresDatabaseDriver"
   ]
  },
  {
   "cell_type": "code",
   "execution_count": 12,
   "metadata": {},
   "outputs": [],
   "source": [
    "response = requests.get('http://site.api.espn.com/apis/site/v2/sports/football/nfl/summary?event=401671789')\n",
    "json_data = response.json()"
   ]
  },
  {
   "cell_type": "code",
   "execution_count": 13,
   "metadata": {},
   "outputs": [],
   "source": [
    "player_stats = json_data['boxscore']['players']"
   ]
  },
  {
   "cell_type": "code",
   "execution_count": 14,
   "metadata": {},
   "outputs": [],
   "source": [
    "def insert_player_stats_data(driver, stats, filename, etl_ts):\n",
    "    try:\n",
    "        insert_statement = \"\"\"\n",
    "            INSERT INTO landing.player_stats (stats_json, filename, etl_ts)\n",
    "            VALUES (%s, %s, %s)\n",
    "        \"\"\"\n",
    "        for stat in stats:\n",
    "            stat_json = json.dumps(stat)\n",
    "            driver.execute(insert_statement, (stat_json, filename, etl_ts))\n",
    "        driver.commit()\n",
    "    except Exception as e:\n",
    "        print(\"Error inserting events:\", e)\n",
    "        driver.conn.rollback()"
   ]
  },
  {
   "cell_type": "code",
   "execution_count": 15,
   "metadata": {},
   "outputs": [],
   "source": [
    "driver = PostgresDatabaseDriver()"
   ]
  },
  {
   "cell_type": "code",
   "execution_count": 16,
   "metadata": {},
   "outputs": [
    {
     "name": "stdout",
     "output_type": "stream",
     "text": [
      "Player stats in games/401671789.json uploaded successfully\n"
     ]
    }
   ],
   "source": [
    "if player_stats:\n",
    "    eastern_tz = pytz.timezone('US/Eastern')\n",
    "    ts = datetime.now(eastern_tz)\n",
    "    etl_ts = ts.isoformat()\n",
    "    insert_player_stats_data(driver, player_stats, 'games/401671789.json', etl_ts)\n",
    "    print(f\"Player stats in games/401671789.json uploaded successfully\")\n",
    "else:\n",
    "    print(f\"No teams found in games/401671789.json\")"
   ]
  }
 ],
 "metadata": {
  "kernelspec": {
   "display_name": "Python 3",
   "language": "python",
   "name": "python3"
  },
  "language_info": {
   "codemirror_mode": {
    "name": "ipython",
    "version": 3
   },
   "file_extension": ".py",
   "mimetype": "text/x-python",
   "name": "python",
   "nbconvert_exporter": "python",
   "pygments_lexer": "ipython3",
   "version": "3.10.12"
  }
 },
 "nbformat": 4,
 "nbformat_minor": 2
}
